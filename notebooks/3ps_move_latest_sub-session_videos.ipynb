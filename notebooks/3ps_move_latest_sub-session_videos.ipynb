{
 "cells": [
  {
   "cell_type": "markdown",
   "id": "7b27afc2",
   "metadata": {},
   "source": [
    "# Move latest sub-sessions of videos to another folder\n",
    "\n",
    "This prepares a clean folder that we can feed into Adobe Premiere for our panelists to rate, without\n",
    "any early sub-sessions, since we ignore those. \n",
    "\n",
    "This leaves the early sub-sessions in the source folder, for review and in case something goes\n",
    "wrong.\n",
    "\n",
    "This does work properly with double-digit sub-sessions.\n",
    "\n",
    "For safety, run this on a folder that is a copy of all the videos, not the original folder."
   ]
  },
  {
   "cell_type": "code",
   "execution_count": 2,
   "id": "7f60af51",
   "metadata": {},
   "outputs": [
    {
     "name": "stdout",
     "output_type": "stream",
     "text": [
      "Moved 211 files to '/Volumes/ORICO/Batch 5 video latest'\n"
     ]
    }
   ],
   "source": [
    "import os\n",
    "import re\n",
    "import shutil\n",
    "from collections import defaultdict\n",
    "\n",
    "# Set source and destination directories\n",
    "src_dir = '/Volumes/ORICO/Batch 5 video'\n",
    "dst_dir = '/Volumes/ORICO/Batch 5 video latest'\n",
    "move_files = True  # Set to False to copy instead of move\n",
    "\n",
    "# Regex pattern: matches [ID]_[version]_[extra text].[extension]\n",
    "pattern = re.compile(r\"^([^_]+)_(\\d+)_([^.]*)\\.(.+)$\")\n",
    "\n",
    "# Dictionary to track latest version of each (ID, extra_text)\n",
    "latest_files = {}\n",
    "\n",
    "for filename in os.listdir(src_dir):\n",
    "    match = pattern.match(filename)\n",
    "    if not match:\n",
    "        continue\n",
    "    file_id, version, extra_text, ext = match.groups()\n",
    "    version = int(version)\n",
    "    key = (file_id, extra_text, ext)\n",
    "\n",
    "    # Update if it's a newer version\n",
    "    if key not in latest_files or version > latest_files[key][0]:\n",
    "        latest_files[key] = (version, filename)\n",
    "\n",
    "# Move or copy the latest files\n",
    "for (version, filename) in latest_files.values():\n",
    "    src_path = os.path.join(src_dir, filename)\n",
    "    dst_path = os.path.join(dst_dir, filename)\n",
    "    if move_files:\n",
    "        shutil.move(src_path, dst_path)\n",
    "    else:\n",
    "        shutil.copy2(src_path, dst_path)\n",
    "\n",
    "print(f\"{'Moved' if move_files else 'Copied'} {len(latest_files)} files to '{dst_dir}'\")"
   ]
  }
 ],
 "metadata": {
  "kernelspec": {
   "display_name": "ppg2rr",
   "language": "python",
   "name": "python3"
  },
  "language_info": {
   "codemirror_mode": {
    "name": "ipython",
    "version": 3
   },
   "file_extension": ".py",
   "mimetype": "text/x-python",
   "name": "python",
   "nbconvert_exporter": "python",
   "pygments_lexer": "ipython3",
   "version": "3.10.14"
  }
 },
 "nbformat": 4,
 "nbformat_minor": 5
}
