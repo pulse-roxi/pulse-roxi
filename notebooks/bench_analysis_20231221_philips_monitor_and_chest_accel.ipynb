{
 "cells": [
  {
   "cell_type": "markdown",
   "metadata": {},
   "source": [
    "# Context\n",
    "Notebook for analyzing the data collected on 2023-12-21. Hardware:\n",
    "* Philips patient monitor (used during Kapiolani study)\n",
    "* Accelerometer (placed near the intercostal muscles, and collected via putty)\n",
    "\n",
    "Goal:\n",
    "1. Does the chest accelerometer provide enough breathing info?\n",
    "2. Can manual counting match the breathing rate collected on children (age 5)?"
   ]
  },
  {
   "cell_type": "code",
   "execution_count": null,
   "metadata": {},
   "outputs": [],
   "source": [
    "from ppg2rr import import_ppg\n",
    "from ppg2rr.util import lowpass_butter\n",
    "from ppg2rr import util\n",
    "from scipy import signal\n",
    "import pandas as pd\n",
    "import numpy as np\n",
    "import plotly.express as px\n",
    "import plotly.graph_objects as go\n",
    "import glob\n",
    "import pprint\n"
   ]
  },
  {
   "cell_type": "code",
   "execution_count": null,
   "metadata": {},
   "outputs": [],
   "source": [
    "%load_ext autoreload\n",
    "%autoreload 2"
   ]
  },
  {
   "cell_type": "code",
   "execution_count": null,
   "metadata": {},
   "outputs": [],
   "source": [
    "data_dir = '../data/Philips/2023-12-20 Folk Chest Accel Position2'"
   ]
  },
  {
   "cell_type": "markdown",
   "metadata": {},
   "source": [
    "# Analyze Data"
   ]
  },
  {
   "cell_type": "code",
   "execution_count": null,
   "metadata": {},
   "outputs": [],
   "source": [
    "experiment_id = 'S-41' # 'S-41' and 'S-42'\n",
    "\n",
    "ppg_raw, fs_ppg, ref = import_ppg.load_philips_monitor_data(\n",
    "    root_dir=data_dir,\n",
    "    folder_id=experiment_id,\n",
    "    probe_num = 1,\n",
    "    show=True,\n",
    ")"
   ]
  },
  {
   "cell_type": "code",
   "execution_count": null,
   "metadata": {},
   "outputs": [],
   "source": [
    "# ppg collected from the new horizons device\n",
    "nh_datafile = glob.glob(f\"{data_dir}/{experiment_id}/*.csv\")\n",
    "nh_df = pd.read_csv(nh_datafile[0])\n",
    "nh_df[['ppg1','ppg2','ppg_in_waiting','elapsed_time_ms']]\n",
    "\n",
    "fig = go.Figure()\n",
    "ppg_t = np.arange(len(nh_df))/250\n",
    "fig.add_scatter(\n",
    "    # x=nh_df['elapsed_time_ms'],\n",
    "    x=ppg_t,\n",
    "    y=nh_df['ppg1']-np.mean(nh_df['ppg1']),\n",
    "    mode='lines',\n",
    "    name='PPG_R'\n",
    "    )\n",
    "fig.add_scatter(\n",
    "    x=ppg_t,\n",
    "    y=nh_df['ppg2']-np.mean(nh_df['ppg2']),\n",
    "    mode='lines',\n",
    "    name='PPG_IR'\n",
    "    )"
   ]
  },
  {
   "cell_type": "code",
   "execution_count": null,
   "metadata": {},
   "outputs": [],
   "source": [
    "from ppg2rr.capnography import rr_from_capnography\n",
    "\n",
    "x_capnography, rr_capnography = rr_from_capnography(ref['co2']['y'], fs_co2=62, show=True)\n",
    "print(f'Mean estiamted RR by capnography algorithm: {np.mean(rr_capnography):.1f}')\n",
    "print(f'Total Breath Count by capnography algorithm: {(len(x_capnography)+1)}')\n",
    "print(f'Breathing rate by counting capnography waveform: {(len(x_capnography)+1)*60/ref[\"co2\"][\"x\"][-1]:.1f} bpm')\n"
   ]
  },
  {
   "cell_type": "markdown",
   "metadata": {},
   "source": [
    "# Algorithm Estimate"
   ]
  },
  {
   "cell_type": "code",
   "execution_count": null,
   "metadata": {},
   "outputs": [],
   "source": [
    "# algorithm estimates from philips finger probe\n",
    "from ppg2rr import rr_est\n",
    "(\n",
    "    rr_candidate_merged,\n",
    "    all_rr_candidates,\n",
    "    feature_quality,\n",
    "    hr\n",
    ") = rr_est.estimate_rr_single_frame(\n",
    "    ppg=ppg_raw,\n",
    "    fs_ppg = 125,\n",
    "    min_resp_freq = 0.1,\n",
    "    show=False\n",
    ")"
   ]
  },
  {
   "cell_type": "code",
   "execution_count": null,
   "metadata": {},
   "outputs": [],
   "source": [
    "rr_candidate_merged"
   ]
  },
  {
   "cell_type": "code",
   "execution_count": null,
   "metadata": {},
   "outputs": [],
   "source": [
    "# algorithm estimates from NH ppg device (channel 1)\n",
    "(\n",
    "    rr_candidate_merged,\n",
    "    all_rr_candidates,\n",
    "    feature_quality,\n",
    "    hr\n",
    ") = rr_est.estimate_rr_single_frame(\n",
    "    ppg=nh_df['ppg1'],\n",
    "    fs_ppg = 250,\n",
    "    min_resp_freq = 0.1,\n",
    "    show=False\n",
    ")\n",
    "pprint.pprint(rr_candidate_merged)\n",
    "feature_quality[-9]"
   ]
  },
  {
   "cell_type": "code",
   "execution_count": null,
   "metadata": {},
   "outputs": [],
   "source": [
    "# algorithm estimates from NH ppg device (channel 2)\n",
    "(\n",
    "    rr_candidate_merged,\n",
    "    all_rr_candidates,\n",
    "    feature_quality,\n",
    "    hr\n",
    ") = rr_est.estimate_rr_single_frame(\n",
    "    ppg=nh_df['ppg2'],\n",
    "    fs_ppg = 250,\n",
    "    min_resp_freq = 0.1,\n",
    "    show=False\n",
    ")\n",
    "pprint.pprint(rr_candidate_merged)\n",
    "feature_quality[-9]"
   ]
  },
  {
   "cell_type": "markdown",
   "metadata": {},
   "source": [
    "The mean and median of fused candidates are calcualted using the following:\n",
    "```\n",
    "[\n",
    "        \"PSD, closest to prev RR\",\n",
    "        \"PSD median\",\n",
    "        \"Counting, median pk delta std cutoff\",\n",
    "        \"kalman\",\n",
    "]\n",
    "```\n",
    "And has been returning the best results. This method correctly estimates the right breathing rate for S-31."
   ]
  },
  {
   "cell_type": "markdown",
   "metadata": {},
   "source": [
    "# Accelerometer Data"
   ]
  },
  {
   "cell_type": "code",
   "execution_count": null,
   "metadata": {},
   "outputs": [],
   "source": [
    "# load accel data, do some processing and compute magnutide\n",
    "# The 2000 multiplier is used to match the capnography amplitude\n",
    "df_acc = pd.read_csv(f'{data_dir}/{experiment_id}/{experiment_id} - Acc', skiprows=1)\n",
    "df_acc=df_acc.drop(columns='0')\n",
    "df_acc.columns=['x', 'y', 'z']\n",
    "for col in df_acc.columns:\n",
    "    df_acc[f'{col}_medfilt'] = util.normalize(signal.medfilt(df_acc[col],kernel_size=5))*2000\n",
    "    \n",
    "df_acc['magnitude'] = np.linalg.norm(df_acc[['x_medfilt', 'y_medfilt', 'z_medfilt']], axis=1)"
   ]
  },
  {
   "cell_type": "code",
   "execution_count": null,
   "metadata": {},
   "outputs": [],
   "source": [
    "len(df_acc['magnitude'])/60"
   ]
  },
  {
   "cell_type": "code",
   "execution_count": null,
   "metadata": {},
   "outputs": [],
   "source": [
    "px.line(df_acc)"
   ]
  },
  {
   "cell_type": "code",
   "execution_count": null,
   "metadata": {},
   "outputs": [],
   "source": [
    "# lowpass the acceleration\n",
    "\n",
    "# Take the first 30 seconds of the signal\n",
    "# Assume 60 hz sampling rate\n",
    "magnitude_lp = lowpass_butter(\n",
    "    signal_raw=df_acc['magnitude'][:125*30].dropna(),\n",
    "    signal_fs = 60,\n",
    "    f_max=2\n",
    ")\n",
    "\n",
    "fig = px.line(magnitude_lp, labels='2z LPF accel magnitude')\n",
    "\n",
    "fig.data[0].name = 'accel magnitude<br>LPF 2hz'\n",
    "fig.update_layout(title=\"Processed accel magnitude provides enough information to identify breaths\")\n",
    "fig.show()"
   ]
  },
  {
   "cell_type": "code",
   "execution_count": null,
   "metadata": {},
   "outputs": [],
   "source": [
    "# rescale each signal for plotting\n",
    "for col in df_acc.columns:\n",
    "    df_acc[col] = util.normalize(df_acc[col],range=(-200,2000))\n",
    "    \n",
    "fig = go.Figure()\n",
    "fig.add_scatter(\n",
    "    x=ref['co2']['x'],\n",
    "    y=ref['co2']['y'],\n",
    "    mode='lines',\n",
    "    name='capnography'\n",
    "    )\n",
    "accel_t = np.arange(len(df_acc))/60\n",
    "fig.add_scatter(\n",
    "    x = accel_t+9,\n",
    "    y = df_acc['x_medfilt']-2000,\n",
    "    name = 'accel x'\n",
    ")\n",
    "fig.add_scatter(\n",
    "    x = accel_t+9,\n",
    "    y = df_acc['y_medfilt']-3000,\n",
    "    name = 'accel y'\n",
    ")\n",
    "fig.add_scatter(\n",
    "    x = accel_t+9,\n",
    "    y = df_acc['z_medfilt']-4000,\n",
    "    name = 'accel z'\n",
    ")\n",
    "fig.add_scatter(\n",
    "    x = accel_t+9,\n",
    "    y = df_acc['magnitude']-1000,\n",
    "    name = 'accel norm'\n",
    ")\n",
    "fig.add_scatter(\n",
    "    x = accel_t+9,\n",
    "    y = magnitude_lp-500,\n",
    "    name = 'accel norm lowpass'\n",
    ")\n",
    "fig.update_xaxes(title=\"estimated time (seconds)\")"
   ]
  },
  {
   "cell_type": "code",
   "execution_count": null,
   "metadata": {},
   "outputs": [],
   "source": [
    "from scipy import signal"
   ]
  },
  {
   "cell_type": "code",
   "execution_count": null,
   "metadata": {},
   "outputs": [],
   "source": [
    "f, pxx = signal.periodogram(magnitude_lp, fs=60)\n",
    "fig = px.line(y=pxx, x=f*60)\n",
    "fig.update_layout(\n",
    "    xaxis_title=\"frequency (breaths per minute)\",\n",
    "    yaxis_title=\"accelerometer, power spectra\",\n",
    "    )"
   ]
  },
  {
   "cell_type": "markdown",
   "metadata": {},
   "source": [
    "Accel's Frequency spectra is inconclusive"
   ]
  },
  {
   "cell_type": "code",
   "execution_count": null,
   "metadata": {},
   "outputs": [],
   "source": [
    "f, pxx = signal.periodogram(ref['co2']['y'][:round(30*62.5)], fs=62.5)\n",
    "fig = px.line(y=pxx, x=f*60)\n",
    "fig.update_layout(\n",
    "    xaxis_title=\"frequency (breaths per minute)\",\n",
    "    yaxis_title=\"Capnography, power spectra\",\n",
    "    )\n"
   ]
  },
  {
   "cell_type": "markdown",
   "metadata": {},
   "source": [
    "Capnography shows frequency peaks at 32 and 14 breaths per minute for the first 30 seconds."
   ]
  },
  {
   "cell_type": "markdown",
   "metadata": {},
   "source": [
    "# Manual Counting"
   ]
  },
  {
   "cell_type": "code",
   "execution_count": null,
   "metadata": {},
   "outputs": [],
   "source": [
    "# Craig's manual annotation\n",
    "estimated_timings_1 = [1, 2, 3, 4, 5]\n",
    "\n",
    "\n",
    "# Plot manual count with Capnography trace\n",
    "fig = go.Figure()\n",
    "fig.add_scatter(\n",
    "    x=ref['co2']['x'],\n",
    "    y=ref['co2']['y'],\n",
    "    mode='lines',\n",
    "    name='capnography'\n",
    "    )\n",
    "for timestamp in estimated_timings_1:\n",
    "    fig.add_vline(\n",
    "        x=timestamp,\n",
    "        line_dash=\"dash\"\n",
    "        )\n",
    "fig.update_layout(\n",
    "    xaxis_title=\"time (seconds)\",\n",
    "    title=\"Capnography vs Video time stamps\"\n",
    ")\n",
    "fig.show()\n",
    "\n",
    "# total breath counts\n",
    "len(estimated_timings_1)"
   ]
  }
 ],
 "metadata": {
  "kernelspec": {
   "display_name": "rrest",
   "language": "python",
   "name": "python3"
  },
  "language_info": {
   "codemirror_mode": {
    "name": "ipython",
    "version": 3
   },
   "file_extension": ".py",
   "mimetype": "text/x-python",
   "name": "python",
   "nbconvert_exporter": "python",
   "pygments_lexer": "ipython3",
   "version": "3.10.10"
  }
 },
 "nbformat": 4,
 "nbformat_minor": 2
}
