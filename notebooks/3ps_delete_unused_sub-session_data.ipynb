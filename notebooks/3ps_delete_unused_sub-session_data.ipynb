{
 "cells": [
  {
   "cell_type": "markdown",
   "id": "1a765ea4",
   "metadata": {},
   "source": [
    "# Delete all but latest sub-sessions of data\n",
    "\n",
    "This reduces disk requirements by deleting data (not videos) of any any early sub-sessions, since we ignore those. \n",
    "\n",
    "For safety, run this on a copy, not the original data folder."
   ]
  },
  {
   "cell_type": "code",
   "execution_count": 2,
   "id": "c8ca5eb5",
   "metadata": {},
   "outputs": [],
   "source": [
    "import os\n",
    "import re\n",
    "import shutil\n",
    "\n",
    "parent_dir = '/Volumes/ORICO/Raw/Batch 5b'\n",
    "\n",
    "for entry in sorted(os.listdir(parent_dir)):\n",
    "    folder_path = os.path.join(parent_dir, entry)\n",
    "    if os.path.isdir(folder_path) and entry[0] == \"N\" and len(entry) == 7:\n",
    "        subfolders = [f for f in os.listdir(folder_path)\n",
    "                        if os.path.isdir(os.path.join(folder_path, f)) and f.isdigit()]\n",
    "        if len(subfolders) > 1:\n",
    "            subfolders.sort(key=int)  # Sort numerically\n",
    "            to_delete = subfolders[:-1]  # All but the highest\n",
    "            for sub in to_delete:\n",
    "                sub_path = os.path.join(folder_path, sub)\n",
    "                print(f\"  Deleting: {sub_path}\")\n",
    "                shutil.rmtree(sub_path)\n",
    "            print()"
   ]
  }
 ],
 "metadata": {
  "kernelspec": {
   "display_name": "ppg2rr",
   "language": "python",
   "name": "python3"
  },
  "language_info": {
   "codemirror_mode": {
    "name": "ipython",
    "version": 3
   },
   "file_extension": ".py",
   "mimetype": "text/x-python",
   "name": "python",
   "nbconvert_exporter": "python",
   "pygments_lexer": "ipython3",
   "version": "3.10.14"
  }
 },
 "nbformat": 4,
 "nbformat_minor": 5
}
