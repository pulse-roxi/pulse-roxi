{
 "cells": [
  {
   "cell_type": "markdown",
   "metadata": {},
   "source": [
    "# Run estimate_rr_dataset() to get RR estimations\n",
    "\n",
    "Assuming datasets are placed in the `data` directory like so:\n",
    "```\n",
    "data\n",
    "| bench\n",
    "| CapnoBase\n",
    "| Kapiolani\n",
    "| etc...\n",
    "```"
   ]
  },
  {
   "cell_type": "code",
   "execution_count": 1,
   "metadata": {},
   "outputs": [],
   "source": [
    "from ppg2rr.rr_est import estimate_rr_dataset\n",
    "from ppg2rr.config import AlgorithmParams\n",
    "import pandas as pd"
   ]
  },
  {
   "cell_type": "code",
   "execution_count": 2,
   "metadata": {},
   "outputs": [],
   "source": [
    "%load_ext autoreload\n",
    "%autoreload 2"
   ]
  },
  {
   "cell_type": "code",
   "execution_count": 3,
   "metadata": {},
   "outputs": [],
   "source": [
    "# pd.set_option('display.max_rows', None)\n",
    "# pd.set_option('display.max_columns', None)\n",
    "\n",
    "# only display 2 decimals\n",
    "pd.set_option('display.precision', 2)"
   ]
  },
  {
   "attachments": {},
   "cell_type": "markdown",
   "metadata": {},
   "source": [
    "# Run dataset evaluation"
   ]
  },
  {
   "cell_type": "code",
   "execution_count": null,
   "metadata": {},
   "outputs": [
    {
     "name": "stdout",
     "output_type": "stream",
     "text": [
      "processing trial: 122\r"
     ]
    }
   ],
   "source": [
    "import warnings\n",
    "\n",
    "# replacing 'default' with 'error' will cause all warnings to be treated as exceptions\n",
    "warnings.filterwarnings('default')\n",
    "\n",
    "# dataset = 'kapiolani'\n",
    "# dataset = 'capnobase'\n",
    "# dataset = 'mimic'\n",
    "# dataset = 'vortal'\n",
    "dataset = '3ps'\n",
    "\n",
    "trials = None           # None: all trials\n",
    "# trials = list(range(0, 2))\n",
    "\n",
    "if dataset == 'capnobase':\n",
    "    # trials = [3, 7, 10, 1, 11, 4, 0, 15, 24]   # just the people <= 5 years and spontaneous breathing, sorted by age\n",
    "    trials = [0, 1, 3, 4, 5, 6, 7, 8, 9, 10, 11, 15, 19, 20, 21, 22, 23, 24, 33, 37, 38, 39, 41]    # spontaneous breathing, all ages\n",
    "\n",
    "window_size=30\n",
    "window_increment=5\n",
    "\n",
    "params = AlgorithmParams(\n",
    "    dataset=dataset,\n",
    "    probe=1,                        # For Kapiolani\n",
    "    probe_type=\"Tr\",                # For 3ps, \"Tr\" or \"Re\"\n",
    "    led_num=1,                      # For 3ps, 1 or 2\n",
    "    window_size=window_size,\n",
    "    window_increment=window_increment,\n",
    ")\n",
    "file_suffix=f'all-sessions'\n",
    "\n",
    "df, rr_candidates, quality_indices, _, per_trial_df = estimate_rr_dataset(\n",
    "    dataset=dataset,\n",
    "    trials=trials, \n",
    "    params=params,\n",
    "    save_df=True,\n",
    "    show=False, \n",
    "    fig_large=False,\n",
    "    save_fig=False,\n",
    "    save_psd_fig=False,\n",
    "    save_frame_psd_figs=False,\n",
    "    file_suffix=file_suffix,\n",
    "    show_rr_candidates=True,\n",
    "    stop_on_error=False,\n",
    ")\n",
    "print()\n",
    "print(\"Complete.\")"
   ]
  },
  {
   "cell_type": "code",
   "execution_count": null,
   "metadata": {},
   "outputs": [],
   "source": [
    "per_trial_df"
   ]
  },
  {
   "cell_type": "code",
   "execution_count": null,
   "metadata": {},
   "outputs": [],
   "source": [
    "print(\"Sessions not marked by each panelist:\")\n",
    "\n",
    "none_found = True\n",
    "for initial in ['D', 'J', 'O']:\n",
    "    col = f'RR uncertainty panelist {initial} (mean)'\n",
    "    if col in per_trial_df:\n",
    "        df_unmarked = per_trial_df[per_trial_df[col, 'frames'].isna()]['id', '-']\n",
    "        if len(df_unmarked):\n",
    "            none_found = False\n",
    "            suffix = 's' if len(df_unmarked) > 1 else ''\n",
    "            print()\n",
    "            print(f'{initial}: {len(df_unmarked)} session{suffix}')\n",
    "            print(df_unmarked.to_string(index=False))\n",
    "    else:\n",
    "        print()\n",
    "        print(f'{initial}: No sessions marked')\n",
    "if none_found:\n",
    "    print(\"None.\")"
   ]
  },
  {
   "cell_type": "code",
   "execution_count": null,
   "metadata": {},
   "outputs": [],
   "source": [
    "print(\"Exclusionary markers, other than 'un*', used by each panelist:\")\n",
    "\n",
    "none_found = True\n",
    "for initial in ['D', 'J', 'O']:\n",
    "    col = f'RR ref video problems panelist {initial}'\n",
    "    if col in per_trial_df:\n",
    "        df_exclusionary_markers = per_trial_df[per_trial_df[col, '-'] != ''][[['id', '-'], [col, '-']]]\n",
    "        if len(df_exclusionary_markers):\n",
    "            none_found = False\n",
    "            suffix = 's' if len(df_exclusionary_markers) > 1 else ''\n",
    "            print()\n",
    "            print(f'{initial}: {len(df_exclusionary_markers)} session{suffix}')\n",
    "            display(df_exclusionary_markers.style.hide(axis='columns').hide(axis='index').set_properties(**{'text-align':'left'}))\n",
    "if none_found:\n",
    "    print(\"None.\")"
   ]
  },
  {
   "cell_type": "code",
   "execution_count": null,
   "metadata": {},
   "outputs": [],
   "source": [
    "df"
   ]
  },
  {
   "cell_type": "code",
   "execution_count": null,
   "metadata": {},
   "outputs": [],
   "source": [
    "print(\"total number of data points:\", df.shape[0])"
   ]
  },
  {
   "cell_type": "code",
   "execution_count": null,
   "metadata": {},
   "outputs": [],
   "source": [
    "# inspect parameters used\n",
    "from dataclasses import asdict\n",
    "for field, value in asdict(params).items():\n",
    "    print(f'{field}: {value}')"
   ]
  }
 ],
 "metadata": {
  "kernelspec": {
   "display_name": "ppg2rr",
   "language": "python",
   "name": "python3"
  },
  "language_info": {
   "codemirror_mode": {
    "name": "ipython",
    "version": 3
   },
   "file_extension": ".py",
   "mimetype": "text/x-python",
   "name": "python",
   "nbconvert_exporter": "python",
   "pygments_lexer": "ipython3",
   "version": "3.10.14"
  },
  "orig_nbformat": 4
 },
 "nbformat": 4,
 "nbformat_minor": 2
}
