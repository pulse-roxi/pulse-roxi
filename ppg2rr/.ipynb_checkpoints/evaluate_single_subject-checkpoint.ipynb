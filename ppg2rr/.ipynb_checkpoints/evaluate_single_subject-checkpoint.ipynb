{
 "cells": [
  {
   "cell_type": "markdown",
   "metadata": {},
   "source": [
    "# Purpose\n",
    "1. To see the summary of PPG, Capnography, \"Ground Truth\", and RR estimation candidates of a single subject\n",
    "2. To zoom in on the algorithm details of one specific PPG segment, for inspecting and debugging."
   ]
  },
  {
   "cell_type": "code",
   "execution_count": 4,
   "metadata": {},
   "outputs": [
    {
     "data": {
      "text/plain": [
       "['/Users/wallace/Projects/Pulse_ROxi/git/pulseox_pubalgs/notebooks',\n",
       " '/opt/anaconda3/envs/ppg2rr/lib/python310.zip',\n",
       " '/opt/anaconda3/envs/ppg2rr/lib/python3.10',\n",
       " '/opt/anaconda3/envs/ppg2rr/lib/python3.10/lib-dynload',\n",
       " '',\n",
       " '/opt/anaconda3/envs/ppg2rr/lib/python3.10/site-packages']"
      ]
     },
     "execution_count": 4,
     "metadata": {},
     "output_type": "execute_result"
    }
   ],
   "source": [
    "import sys\n",
    "sys.path"
   ]
  },
  {
   "cell_type": "code",
   "execution_count": 6,
   "metadata": {},
   "outputs": [
    {
     "ename": "ModuleNotFoundError",
     "evalue": "No module named 'ppg2rr'",
     "output_type": "error",
     "traceback": [
      "\u001b[0;31m---------------------------------------------------------------------------\u001b[0m",
      "\u001b[0;31mModuleNotFoundError\u001b[0m                       Traceback (most recent call last)",
      "Cell \u001b[0;32mIn[6], line 1\u001b[0m\n\u001b[0;32m----> 1\u001b[0m \u001b[38;5;28;01mfrom\u001b[39;00m \u001b[38;5;21;01mppg2rr\u001b[39;00m\u001b[38;5;21;01m.\u001b[39;00m\u001b[38;5;21;01mrr_est\u001b[39;00m \u001b[38;5;28;01mimport\u001b[39;00m estimate_rr\n\u001b[1;32m      2\u001b[0m \u001b[38;5;28;01mfrom\u001b[39;00m \u001b[38;5;21;01mppg2rr\u001b[39;00m\u001b[38;5;21;01m.\u001b[39;00m\u001b[38;5;21;01mconfig\u001b[39;00m \u001b[38;5;28;01mimport\u001b[39;00m AlgorithmParams\n\u001b[1;32m      3\u001b[0m \u001b[38;5;28;01mimport\u001b[39;00m \u001b[38;5;21;01mpandas\u001b[39;00m \u001b[38;5;28;01mas\u001b[39;00m \u001b[38;5;21;01mpd\u001b[39;00m\n",
      "\u001b[0;31mModuleNotFoundError\u001b[0m: No module named 'ppg2rr'"
     ]
    }
   ],
   "source": [
    "from ppg2rr.rr_est import estimate_rr\n",
    "from ppg2rr.config import AlgorithmParams\n",
    "import pandas as pd"
   ]
  },
  {
   "cell_type": "code",
   "execution_count": null,
   "metadata": {},
   "outputs": [],
   "source": [
    "%load_ext autoreload\n",
    "%autoreload 2"
   ]
  },
  {
   "attachments": {},
   "cell_type": "markdown",
   "metadata": {},
   "source": [
    "# View results of all frames from a single subject"
   ]
  },
  {
   "cell_type": "code",
   "execution_count": null,
   "metadata": {},
   "outputs": [],
   "source": [
    "# The number of frames are printed out to help pinpoint the location of failure.\n",
    "trial = 15\n",
    "dataset = 'capnobase'\n",
    "params = AlgorithmParams(\n",
    "    dataset=dataset,\n",
    "    probe=1,\n",
    "    remove_riv_outliers=\"segment-wise\",\n",
    "    peak_counting_prominence=0.5,\n",
    "    # window_increment=15\n",
    "    )\n",
    "\n",
    "frame_num = None # If None, process all frames; if list of integers, process specified frames\n",
    "\n",
    "(\n",
    "    frame_data_all,\n",
    "    rr_candidate_merged,\n",
    "    all_rr_candidates_list,\n",
    "    feature_quality_list,\n",
    "    meta,\n",
    ") = estimate_rr(\n",
    "    trial_num=trial,\n",
    "    frame_num=frame_num,\n",
    "    params=params,\n",
    "    dataset=dataset,\n",
    "    show=True,\n",
    "    save_fig=False,\n",
    ")"
   ]
  },
  {
   "cell_type": "code",
   "execution_count": null,
   "metadata": {},
   "outputs": [],
   "source": [
    "# see subject-specific information\n",
    "meta"
   ]
  },
  {
   "cell_type": "code",
   "execution_count": null,
   "metadata": {},
   "outputs": [],
   "source": [
    "# put frame data and rr_candidates into a data frame for inspection\n",
    "results = pd.concat([pd.DataFrame(frame_data_all),pd.DataFrame(rr_candidate_merged)], axis=1)\n",
    "results"
   ]
  },
  {
   "cell_type": "code",
   "execution_count": null,
   "metadata": {},
   "outputs": [],
   "source": [
    "# Find the frame number centered at time x\n",
    "frame_center_time = 125\n",
    "frame_data_df = pd.DataFrame(frame_data_all)\n",
    "frame_data_df[frame_data_df['time start']==frame_center_time-15]"
   ]
  },
  {
   "cell_type": "code",
   "execution_count": null,
   "metadata": {},
   "outputs": [],
   "source": [
    "# summarize the quality scores\n",
    "quality_df = pd.DataFrame(feature_quality_list)\n",
    "quality_df = quality_df.pivot(index=['frame index'],columns=['method','feature'],values='value')\n",
    "quality_df = quality_df.reset_index()\n",
    "quality_df"
   ]
  },
  {
   "attachments": {},
   "cell_type": "markdown",
   "metadata": {},
   "source": [
    "# Frame-specific analysis"
   ]
  },
  {
   "cell_type": "code",
   "execution_count": null,
   "metadata": {},
   "outputs": [],
   "source": [
    "dataset = 'capnobase'\n",
    "trial = 15\n",
    "frame_num = [22] # If None, process all frames; if list of integers, process specified frames\n",
    "params = AlgorithmParams(\n",
    "    dataset=dataset,\n",
    "    probe=1,\n",
    "    remove_riv_outliers=\"segment-wise\",\n",
    "    peak_counting_prominence=1\n",
    "    )\n",
    "\n",
    "(\n",
    "    frame_data,\n",
    "    rr_candidate_merged,\n",
    "    all_rr_candidates_list,\n",
    "    feature_quality_list,\n",
    "    meta,\n",
    ") = estimate_rr(\n",
    "    trial_num=trial,\n",
    "    frame_num=frame_num,\n",
    "    params=params,\n",
    "    dataset=dataset,\n",
    "    show=True,\n",
    "    save_fig=False,\n",
    "    rr_seed=20\n",
    ")"
   ]
  },
  {
   "cell_type": "code",
   "execution_count": null,
   "metadata": {},
   "outputs": [],
   "source": [
    "pd.DataFrame(frame_data)"
   ]
  },
  {
   "cell_type": "code",
   "execution_count": null,
   "metadata": {},
   "outputs": [],
   "source": [
    "df = pd.DataFrame(all_rr_candidates_list)"
   ]
  },
  {
   "cell_type": "code",
   "execution_count": null,
   "metadata": {},
   "outputs": [],
   "source": [
    "df.iloc[:22]['RR candidate']"
   ]
  },
  {
   "cell_type": "code",
   "execution_count": null,
   "metadata": {},
   "outputs": [],
   "source": [
    "# save ppg waveform to use for testing\n",
    "pd.DataFrame(frame_data[0]['ppg']).to_csv(f'ppg_kapiolanip1-{trial}-{frame_num[0]}.csv', index=False)"
   ]
  }
 ],
 "metadata": {
  "kernelspec": {
   "display_name": "Python 3 (ipykernel)",
   "language": "python",
   "name": "python3"
  },
  "language_info": {
   "codemirror_mode": {
    "name": "ipython",
    "version": 3
   },
   "file_extension": ".py",
   "mimetype": "text/x-python",
   "name": "python",
   "nbconvert_exporter": "python",
   "pygments_lexer": "ipython3",
   "version": "3.10.14"
  }
 },
 "nbformat": 4,
 "nbformat_minor": 4
}
