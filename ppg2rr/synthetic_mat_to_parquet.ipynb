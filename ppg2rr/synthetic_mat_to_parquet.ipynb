{
 "cells": [
  {
   "attachments": {},
   "cell_type": "markdown",
   "metadata": {},
   "source": [
    "# Convert the synthetic PPG data .mat file to .parquet file"
   ]
  },
  {
   "cell_type": "code",
   "execution_count": null,
   "metadata": {},
   "outputs": [],
   "source": [
    "import scipy.io\n",
    "import pandas as pd"
   ]
  },
  {
   "cell_type": "code",
   "execution_count": null,
   "metadata": {},
   "outputs": [],
   "source": [
    "mat = scipy.io.loadmat('../../data/Synthetic/RRSYNTHdata.mat',simplify_cells=True)"
   ]
  },
  {
   "cell_type": "code",
   "execution_count": null,
   "metadata": {},
   "outputs": [],
   "source": [
    "group = []\n",
    "fix = []\n",
    "hr_beatsPerMin = []\n",
    "rr_breathsPerMin = []\n",
    "breaths_time_seconds = []\n",
    "ppg_v = []\n",
    "ppg_fs = []\n",
    "ppg_method = []\n",
    "ekg_v = []\n",
    "ekg_fs = []\n",
    "ekg_method = []\n",
    "for data in mat['data']:\n",
    "    group.append(data['group'])\n",
    "    fix.append(data['fix'])\n",
    "    hr_beatsPerMin.append(data['ref']['params']['hr']['v'])\n",
    "    rr_breathsPerMin.append(data['ref']['params']['rr']['v'])\n",
    "    breaths_time_seconds.append(data['ref']['breaths']['t'])\n",
    "    ppg_v.append(data['ppg']['v'])\n",
    "    ppg_fs.append(data['ppg']['fs'])\n",
    "    ppg_method.append(data['ppg']['method'])\n",
    "    ekg_v.append(data['ekg']['v'])\n",
    "    ekg_fs.append(data['ekg']['fs'])\n",
    "    ekg_method.append(data['ekg']['method'])\n",
    "    "
   ]
  },
  {
   "cell_type": "code",
   "execution_count": null,
   "metadata": {},
   "outputs": [],
   "source": [
    "synth_df = pd.DataFrame(\n",
    "    {\n",
    "        'group':group,\n",
    "        'hr_beatsPerMin':hr_beatsPerMin,\n",
    "        'rr_breathsPerMin':rr_breathsPerMin,\n",
    "        'breaths_time_seconds':breaths_time_seconds,\n",
    "        'ppg_v':ppg_v,\n",
    "        'ppg_fs':ppg_fs,\n",
    "        'ekg_v':ekg_v,\n",
    "        'ekg_fs':ekg_fs,\n",
    "    },\n",
    ")"
   ]
  },
  {
   "cell_type": "code",
   "execution_count": null,
   "metadata": {},
   "outputs": [],
   "source": [
    "synth_df.to_parquet('../../data/Synthetic/synthetic_rr.parquet')"
   ]
  }
 ],
 "metadata": {
  "language_info": {
   "name": "python"
  },
  "orig_nbformat": 4
 },
 "nbformat": 4,
 "nbformat_minor": 2
}
